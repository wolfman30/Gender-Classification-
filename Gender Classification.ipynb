{
 "cells": [
  {
   "cell_type": "code",
   "execution_count": 1,
   "metadata": {
    "collapsed": true
   },
   "outputs": [],
   "source": [
    "#imported all necessary modules and dependencies \n",
    "from sklearn.tree import DecisionTreeClassifier as dtc\n",
    "from sklearn.neighbors import KNeighborsClassifier as kn\n",
    "from sklearn.svm import SVC\n",
    "from sklearn.gaussian_process import GaussianProcessClassifier as gpc\n",
    "from sklearn.gaussian_process.kernels import RBF\n",
    "from sklearn.ensemble import RandomForestClassifier as rf, AdaBoostClassifier as ab\n",
    "from sklearn.naive_bayes import GaussianNB as gnb \n",
    "from sklearn.neural_network import MLPClassifier as mlp\n",
    "from sklearn.discriminant_analysis import QuadraticDiscriminantAnalysis as qda\n",
    "from sklearn.metrics import accuracy_score as acc\n",
    "\n",
    "import numpy as np\n",
    "import pandas as pd\n",
    " "
   ]
  },
  {
   "cell_type": "code",
   "execution_count": 2,
   "metadata": {
    "collapsed": true
   },
   "outputs": [],
   "source": [
    " \n",
    "#created 10 different classifiers based on sckikit-learn documentation \n",
    "dtc = dtc()\n",
    "kn = kn(3)\n",
    "svc = SVC(kernel='linear', C=0.025)\n",
    "svc_gam = SVC(gamma=2,C=1)\n",
    "gpc = gpc(1.0 * RBF(1.0))\n",
    "rf = rf(max_depth=5, n_estimators=10, max_features=1)\n",
    "mlp = mlp(alpha=1)\n",
    "ab = ab()\n",
    "gnb = gnb()\n",
    "qda = qda()\n",
    "\n",
    "# [height, weight, shoe_size]\n",
    "X = [[181, 80, 44], [177, 70, 43], [160, 60, 38], [154, 54, 37], [166, 65, 40],\n",
    "     [190, 90, 47], [175, 64, 39],\n",
    "     [177, 70, 40], [159, 55, 37], [171, 75, 42], [181, 85, 43]]\n",
    "\n",
    "Y = ['male', 'male', 'female', 'female', 'male', 'male', 'female', 'female',\n",
    "     'female', 'male', 'male']"
   ]
  },
  {
   "cell_type": "code",
   "execution_count": 3,
   "metadata": {
    "collapsed": true
   },
   "outputs": [],
   "source": [
    "\"\"\"Imported the time module to record the total running time of training, \n",
    "predicting, and measuring the predictive accuracy of each classifier\"\"\"\n",
    "import time \n",
    "\n",
    "start_time = time.clock()\n",
    "clf0 = dtc.fit(X,Y)\n",
    "pred_tree = clf0.predict(X)\n",
    "acc_tree = acc(Y, pred_tree) * 100\n",
    "tree_time = (time.clock() - start_time)*1000\n",
    "\n",
    "start_time = time.clock()\n",
    "clf1 = kn.fit(X, Y)\n",
    "pred_kn = clf1.predict(X)\n",
    "acc_kn = acc(Y, pred_kn) * 100\n",
    "kn_time = (time.clock() - start_time)*1000 \n",
    "\n",
    "start_time = time.clock()\n",
    "clf2 = svc.fit(X, Y)\n",
    "pred_svc = clf2.predict(X)\n",
    "acc_svc = acc(Y, pred_svc) * 100\n",
    "svc_time = (time.clock() - start_time)*1000\n",
    "\n",
    "start_time = time.clock()\n",
    "clf3 = svc_gam.fit(X, Y)\n",
    "pred_svc_gam= clf3.predict(X)\n",
    "acc_svc_gam = acc(Y, pred_svc_gam) * 100\n",
    "svc_gam_time = (time.clock() - start_time)*1000\n",
    "\n",
    "start_time = time.clock()\n",
    "clf4 = gpc.fit(X, Y)\n",
    "pred_gpc = clf4.predict(X)\n",
    "acc_gpc = acc(Y, pred_gpc) * 100\n",
    "gpc_time = (time.clock() - start_time)*1000\n",
    "\n",
    "start_time = time.clock()\n",
    "clf5 = rf.fit(X, Y)\n",
    "pred_rf = clf5.predict(X)\n",
    "acc_rf = acc(Y, pred_rf) * 100\n",
    "rf_time = (time.clock() - start_time)*1000\n",
    "\n",
    "start_time = time.clock()\n",
    "clf6 = mlp.fit(X, Y)\n",
    "pred_mlp = clf6.predict(X)\n",
    "acc_mlp = acc(Y, pred_mlp) * 100\n",
    "mlp_time = (time.clock() - start_time)*1000\n",
    "\n",
    "start_time = time.clock()\n",
    "clf7 = ab.fit(X, Y)\n",
    "pred_ab = clf7.predict(X)\n",
    "acc_ab = acc(Y, pred_ab) * 100\n",
    "ab_time = (time.clock() - start_time)*1000\n",
    "\n",
    "start_time = time.clock()\n",
    "clf8 = gnb.fit(X, Y)\n",
    "pred_gnb = clf8.predict(X)\n",
    "acc_gnb = acc(Y, pred_gnb) * 100\n",
    "gnb_time = (time.clock() - start_time)*1000\n",
    "\n",
    "start_time = time.clock()\n",
    "clf9 = qda.fit(X, Y)\n",
    "pred_qda = clf9.predict(X)\n",
    "acc_qda = acc(Y, pred_qda) * 100\n",
    "qda_time = (time.clock() - start_time)*1000"
   ]
  },
  {
   "cell_type": "code",
   "execution_count": 4,
   "metadata": {
    "collapsed": true
   },
   "outputs": [],
   "source": [
    "# Stored the classifiers and their accuracy scores as keys and values respectively as a dictionary in the variable 'clf_acc_dict'\n",
    "clf_acc_dict = {'Tree': [acc_tree, tree_time], 'KNeighbors': [acc_kn, kn_time], 'SVC': [acc_svc, svc_time], 'SVC_gamma': [acc_svc_gam, svc_gam_time], \n",
    "'Gaussian_Process': [acc_gpc, gpc_time], 'RandomForest': [acc_rf, rf_time], 'Perceptron':[acc_mlp, mlp_time], 'AdaBoost': [acc_ab, ab_time], \n",
    "'GaussianNB': [acc_gnb, gnb_time], 'QuadraticDiscriminantAnalysis': [acc_qda, qda_time]}"
   ]
  },
  {
   "cell_type": "code",
   "execution_count": 5,
   "metadata": {},
   "outputs": [
    {
     "name": "stdout",
     "output_type": "stream",
     "text": [
      "                           index                                    0\n",
      "0                       AdaBoost           [100.0, 50.04651802044678]\n",
      "1                     GaussianNB  [81.8181818182, 0.7706435043172699]\n",
      "2               Gaussian_Process          [100.0, 26.314020803221222]\n",
      "3                     KNeighbors  [81.8181818182, 1.3117175570789705]\n",
      "4                     Perceptron   [54.5454545455, 7.052841752641939]\n",
      "5  QuadraticDiscriminantAnalysis          [100.0, 0.9016642274912445]\n",
      "6                   RandomForest           [100.0, 11.46525723106014]\n",
      "7                            SVC  [90.9090909091, 0.8238824725234064]\n",
      "8                      SVC_gamma          [100.0, 0.5761891168976707]\n",
      "9                           Tree          [100.0, 1.1886260419356933]\n",
      "\n",
      "CLASSIFIER                       ACCURACY             RUN TIME  \n",
      "Tree                             100.0                1.1886260419356933\n",
      "KNeighbors                       81.81818181818183    1.3117175570789705\n",
      "SVC                              90.9090909090909     0.8238824725234064\n",
      "SVC_gamma                        100.0                0.5761891168976707\n",
      "Gaussian_Process                 100.0                26.314020803221222\n",
      "RandomForest                     100.0                11.46525723106014\n",
      "Perceptron                       54.54545454545454    7.052841752641939\n",
      "AdaBoost                         100.0                50.04651802044678\n",
      "GaussianNB                       81.81818181818183    0.7706435043172699\n",
      "QuadraticDiscriminantAnalysis    100.0                0.9016642274912445\n",
      "\n",
      "The classifier with max accuracy and minimum time is Support Vector Machine Classifier with the defined gamma argument\n"
     ]
    }
   ],
   "source": [
    "\"\"\"here is experimentation using Pandas Series function and using for loop with print functions. \n",
    "The latter gives a better display.\"\"\"\n",
    "\n",
    "\n",
    "#stores visualization of classifiers with corresponding accuracy scores in variable 'score_table' and displays the visualization using print function\n",
    "score_table = pd.Series(clf_acc_dict).reset_index()#.reset_index() generates alignment for better readability in my opinion\n",
    "print(score_table)\n",
    "\n",
    "print('')\n",
    "\n",
    "#using a for loop, items() function, and 2 print functions to better display the dictionary with headers \n",
    "print(\"{:<32} {:<20} {:<10}\".format('CLASSIFIER','ACCURACY','RUN TIME'))\n",
    "for k, v in clf_acc_dict.items():\n",
    "    accuracy, time = v\n",
    "    print(\"{:<32} {:<20} {:<10}\".format(k, accuracy, time))\n",
    "\n",
    "print('')\n",
    "\n",
    "print('The classifier with max accuracy and minimum time is Support Vector Machine Classifier with the defined gamma argument')\n",
    "\n",
    "\n",
    "\n",
    " \n",
    "\n",
    " "
   ]
  }
 ],
 "metadata": {
  "kernelspec": {
   "display_name": "Python 3",
   "language": "python",
   "name": "python3"
  },
  "language_info": {
   "codemirror_mode": {
    "name": "ipython",
    "version": 3
   },
   "file_extension": ".py",
   "mimetype": "text/x-python",
   "name": "python",
   "nbconvert_exporter": "python",
   "pygments_lexer": "ipython3",
   "version": "3.6.2"
  }
 },
 "nbformat": 4,
 "nbformat_minor": 2
}
